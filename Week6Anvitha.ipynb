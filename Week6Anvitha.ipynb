{
  "metadata": {
    "language_info": {
      "codemirror_mode": {
        "name": "python",
        "version": 3
      },
      "file_extension": ".py",
      "mimetype": "text/x-python",
      "name": "python",
      "nbconvert_exporter": "python",
      "pygments_lexer": "ipython3",
      "version": "3.8"
    },
    "kernelspec": {
      "name": "python",
      "display_name": "Pyolite",
      "language": "python"
    }
  },
  "nbformat_minor": 4,
  "nbformat": 4,
  "cells": [
    {
      "cell_type": "markdown",
      "source": "# Anvitha IBM Assignment 1\n\n",
      "metadata": {}
    },
    {
      "cell_type": "markdown",
      "source": "##### When learning a new programming language, it is customary to start with a \"hello world\" example. As simple as it is, this one line of code will ensure that you know how to print a string in output and how to execute code within cells in a notebook.\n",
      "metadata": {}
    },
    {
      "cell_type": "markdown",
      "source": "### Data Science Languages\n\n- Python\n- R\n- Julia\n- SAS\n- MATLAB\n",
      "metadata": {}
    },
    {
      "cell_type": "markdown",
      "source": "### Data Science Libraries\n\n- NumPy\n- Pandas\n- Matplotlib\n- Scikit-learn\n- TensorFlow",
      "metadata": {}
    },
    {
      "cell_type": "markdown",
      "source": "### Data Science Tools\n\n| Tool             | Description                                         |\n|------------------|-----------------------------------------------------|\n| Python           | General-purpose programming language                 |\n| R                | Statistical computing and graphics                   |\n| Julia            | High-level programming language for technical computing |\n| SAS              | Analytics and data management software              |\n| MATLAB           | Numerical computing and visualization               |\n| Jupyter Notebook | Interactive development environment for data science|\n| Apache Spark     | Distributed computing framework                     |\n| Tableau          | Data visualization and business intelligence        |\n",
      "metadata": {}
    },
    {
      "cell_type": "markdown",
      "source": "## Arithmetic Expression Examples\n\nHere are some examples of arithmetic expressions:\n\n- Addition: 5 + 3 = 8\n- Subtraction: 10 - 4 = 6\n- Multiplication: 2 * 6 = 12\n- Division: 15 / 3 = 5\n- Exponentiation: 2^3 = 8\n- Modulo: 17 % 4 = 1\n\nArithmetic expressions involve mathematical operations such as addition, subtraction, multiplication, division, exponentiation, and modulo. These operations allow you to perform calculations and manipulate numerical values in various programming languages and mathematical contexts.\n",
      "metadata": {}
    },
    {
      "cell_type": "code",
      "source": "# Multiply and Add Numbers\nnumber1 = 5\nnumber2 = 3\n\nmultiplication_result = number1 * number2\naddition_result = number1 + number2\n\nprint(\"Multiplication Result:\", multiplication_result)\nprint(\"Addition Result:\", addition_result)\n",
      "metadata": {
        "trusted": true
      },
      "execution_count": 19,
      "outputs": [
        {
          "name": "stdout",
          "text": "Multiplication Result: 15\nAddition Result: 8\n",
          "output_type": "stream"
        }
      ]
    },
    {
      "cell_type": "code",
      "source": "# Convert Minutes to Hours\nminutes = 135\n\nhours = minutes // 60  # Integer division to get the whole number of hours\nremaining_minutes = minutes % 60  # Modulo operation to get the remaining minutes\n\nprint(\"Minutes:\", minutes)\nprint(\"Hours:\", hours)\nprint(\"Remaining Minutes:\", remaining_minutes)\n",
      "metadata": {
        "trusted": true
      },
      "execution_count": 20,
      "outputs": [
        {
          "name": "stdout",
          "text": "Minutes: 135\nHours: 2\nRemaining Minutes: 15\n",
          "output_type": "stream"
        }
      ]
    },
    {
      "cell_type": "markdown",
      "source": "## Objectives\n\n- Analyze the dataset to gain insights\n- Preprocess and clean the data\n- Apply machine learning algorithms for predictive modeling\n- Evaluate and compare the performance of different models\n- Communicate and visualize the results effectively\n",
      "metadata": {}
    },
    {
      "cell_type": "markdown",
      "source": "After executing the cell above, you should see that Python prints <code>Hello, Python!</code>. Congratulations on running your first Python code! \n",
      "metadata": {}
    },
    {
      "cell_type": "markdown",
      "source": "<hr/>\n<div class=\"alert alert-success alertsuccess\" style=\"margin-top: 20px\">\n<p>\n  \nAfter executing the above cell code <code>2+3</code> output <code>5</code> is not generated because <code>2+3</code> was preceeded by the number sign (<code>#</code>) and is treated as a comment.\n</strong>\n</p>\n\n</div>\n",
      "metadata": {}
    },
    {
      "cell_type": "markdown",
      "source": "## Author\n\n[Anvitha Chegu]\n\n\n\n\n## Change Log\n\n| Date (YYYY-MM-DD) | Version | Changed By | Change Description                 |\n| ----------------- | ------- | ---------- | ---------------------------------- |\n| 2023-05-22        | 0.1     | Anvitha Chegu    | Created Initial version    |\n\n\n",
      "metadata": {}
    },
    {
      "cell_type": "markdown",
      "source": "\n",
      "metadata": {}
    }
  ]
}